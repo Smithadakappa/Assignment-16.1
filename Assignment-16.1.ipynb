{
 "cells": [
  {
   "cell_type": "code",
   "execution_count": 32,
   "metadata": {},
   "outputs": [
    {
     "name": "stdout",
     "output_type": "stream",
     "text": [
      "This is POPULATION standard deviation.\n",
      "The mean of [1550, 1700, 900, 850, 1000, 950] is 1158.3333333333333.\n",
      "The differences are [391.66666666666674, 541.6666666666667, -258.33333333333326, -308.33333333333326, -158.33333333333326, -208.33333333333326].\n",
      "The sum of squared differences is 677083.3333333334.\n",
      "The variance is 112847.22222222223.\n",
      "The standard deviation is 335.92740617910624.\n",
      "--------------------------\n",
      "This is SAMPLE standard deviation.\n",
      "The mean of [1550, 1700, 900, 850, 1000, 950] is 1158.3333333333333.\n",
      "The differences are [391.66666666666674, 541.6666666666667, -258.33333333333326, -308.33333333333326, -158.33333333333326, -208.33333333333326].\n",
      "The sum of squared differences is 677083.3333333334.\n",
      "The variance is 135416.6666666667.\n",
      "The standard deviation is 367.99003609699366.\n",
      "--------------------------\n"
     ]
    }
   ],
   "source": [
    "from math import sqrt\n",
    " \n",
    "def standard_deviation(lst, population=True):\n",
    "    \"\"\"Calculates the standard deviation for a list of numbers.\"\"\"\n",
    "    num_items = len(lst)\n",
    "    mean = sum(lst) / num_items\n",
    "    differences = [x - mean for x in lst]\n",
    "    sq_differences = [d ** 2 for d in differences]\n",
    "    ssd = sum(sq_differences)\n",
    " \n",
    "    # Note: it would be better to return a value and then print it outside\n",
    "    # the function, but this is just a quick way to print out the values along\n",
    "    # the way.\n",
    "    if population is True:\n",
    "        print('This is POPULATION standard deviation.')\n",
    "        variance = ssd / num_items\n",
    "    else:\n",
    "        print('This is SAMPLE standard deviation.')\n",
    "        variance = ssd / (num_items - 1)\n",
    "    sd = sqrt(variance)\n",
    "    # You could `return sd` here.\n",
    " \n",
    "    print('The mean of {} is {}.'.format(lst, mean))\n",
    "    print('The differences are {}.'.format(differences))\n",
    "    print('The sum of squared differences is {}.'.format(ssd))\n",
    "    print('The variance is {}.'.format(variance))\n",
    "    print('The standard deviation is {}.'.format(sd))\n",
    "    print('--------------------------')\n",
    " \n",
    " \n",
    "s = [1550, 1700, 900, 850, 1000,950]\n",
    "standard_deviation(s)\n",
    "standard_deviation(s, population=False)\n",
    "\n"
   ]
  },
  {
   "cell_type": "code",
   "execution_count": null,
   "metadata": {
    "collapsed": true
   },
   "outputs": [],
   "source": []
  }
 ],
 "metadata": {
  "kernelspec": {
   "display_name": "Python 3",
   "language": "python",
   "name": "python3"
  },
  "language_info": {
   "codemirror_mode": {
    "name": "ipython",
    "version": 3
   },
   "file_extension": ".py",
   "mimetype": "text/x-python",
   "name": "python",
   "nbconvert_exporter": "python",
   "pygments_lexer": "ipython3",
   "version": "3.6.3"
  }
 },
 "nbformat": 4,
 "nbformat_minor": 2
}
